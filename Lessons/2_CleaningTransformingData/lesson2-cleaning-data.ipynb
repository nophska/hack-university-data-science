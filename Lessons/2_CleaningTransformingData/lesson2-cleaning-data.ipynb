{
 "cells": [
  {
   "cell_type": "markdown",
   "metadata": {},
   "source": [
    "# Lesson 2: Cleaning Data\n",
    "The goal for this week is to get your data set ready for exploratory analysis. This notebook will step you through some common issues you may encounter in loading your data set, using a subset of the AgCensus 2012 data set. \n",
    "\n",
    "The [Quick Stats API GUI interface](http://quickstats.nass.usda.gov/?source_desc=CENSUS), which may be useful in seeing how different variables are connected. This data set has many tables merged together in a way that makes it difficult to use. Also see: [methodology](http://www.agcensus.usda.gov/Publications/2012/Full_Report/Volume_1,_Chapter_1_US/usappxa.pdf) and [full report](http://www.agcensus.usda.gov/Publications/2012/Full_Report/Volume_1,_Chapter_1_US/usv1.pdf)."
   ]
  },
  {
   "cell_type": "code",
   "execution_count": null,
   "metadata": {
    "collapsed": true
   },
   "outputs": [],
   "source": [
    "import pandas\n",
    "import os"
   ]
  },
  {
   "cell_type": "markdown",
   "metadata": {},
   "source": [
    "## Read in data\n",
    "\n",
    "### Missing data codes\n",
    "When you read data into a pandas DataFrame, specify the values for missing data codes. The AgCensus data uses various  codes for missing data, depending on the reason it is missing: '(D)' means that the data point was redacted for privacy reasons because the producer could be uniquely identified, '(H)' indicates a large error as percentage of the mean.\n",
    "\n",
    "### Date/datetime parser\n",
    "Specify columns that are dates or datetimes in the argument parse_dates."
   ]
  },
  {
   "cell_type": "code",
   "execution_count": null,
   "metadata": {
    "collapsed": false
   },
   "outputs": [],
   "source": [
    "datafilename = os.path.join(\"data\", \"AgCensus2012_Subset.txt\")\n",
    "delimiter = '\\t'\n",
    "missingvalues = ['(D)']\n",
    "agcensus = pandas.read_csv(datafilename, sep=delimiter, na_values=missingvalues, parse_dates=[36])"
   ]
  },
  {
   "cell_type": "code",
   "execution_count": null,
   "metadata": {
    "collapsed": false
   },
   "outputs": [],
   "source": [
    "# View the column headers. Note that columns is an attribute of the dataframe.\n",
    "agcensus.columns"
   ]
  },
  {
   "cell_type": "markdown",
   "metadata": {},
   "source": [
    "### Examine top, bottom, and summary of data."
   ]
  },
  {
   "cell_type": "code",
   "execution_count": null,
   "metadata": {
    "collapsed": false
   },
   "outputs": [],
   "source": [
    "help(agcensus.head)"
   ]
  },
  {
   "cell_type": "code",
   "execution_count": null,
   "metadata": {
    "collapsed": false
   },
   "outputs": [],
   "source": [
    "# Call the function head to veiw the first five rows. \n",
    "agcensus.head()"
   ]
  },
  {
   "cell_type": "code",
   "execution_count": null,
   "metadata": {
    "collapsed": false
   },
   "outputs": [],
   "source": [
    "# Optionally, we can pass an integer as an argument to change the number of rows displayed. \n",
    "# For more information, view the documentation for any command, class, or module by issuing the command help(name)\n",
    "help(agcensus.head)"
   ]
  },
  {
   "cell_type": "code",
   "execution_count": null,
   "metadata": {
    "collapsed": false
   },
   "outputs": [],
   "source": [
    "agcensus.tail()"
   ]
  },
  {
   "cell_type": "code",
   "execution_count": null,
   "metadata": {
    "collapsed": false
   },
   "outputs": [],
   "source": [
    "agcensus.describe()"
   ]
  },
  {
   "cell_type": "markdown",
   "metadata": {},
   "source": [
    "### View a slice of the data frame "
   ]
  },
  {
   "cell_type": "code",
   "execution_count": null,
   "metadata": {
    "collapsed": false
   },
   "outputs": [],
   "source": [
    "agcensus[20:25]"
   ]
  },
  {
   "cell_type": "markdown",
   "metadata": {},
   "source": [
    "### View a column of the dataframe\n",
    "Note there are two ways of referring to the the column, using a \".\" to scope the name, or using the name as a key value in square brackets."
   ]
  },
  {
   "cell_type": "code",
   "execution_count": null,
   "metadata": {
    "collapsed": false
   },
   "outputs": [],
   "source": [
    "agcensus.YEAR"
   ]
  },
  {
   "cell_type": "code",
   "execution_count": null,
   "metadata": {
    "collapsed": false
   },
   "outputs": [],
   "source": [
    "agcensus[\"YEAR\"]"
   ]
  },
  {
   "cell_type": "markdown",
   "metadata": {},
   "source": [
    "### View more information about the dataframe"
   ]
  },
  {
   "cell_type": "code",
   "execution_count": null,
   "metadata": {
    "collapsed": false
   },
   "outputs": [],
   "source": [
    "agcensus.info()"
   ]
  },
  {
   "cell_type": "code",
   "execution_count": null,
   "metadata": {
    "collapsed": false
   },
   "outputs": [],
   "source": [
    "agcensus.dtypes"
   ]
  },
  {
   "cell_type": "markdown",
   "metadata": {},
   "source": [
    "## Rename variables\n",
    "Before we continue with cleaning up the data, let's change the column names to remove the special character % and make all words lowercase."
   ]
  },
  {
   "cell_type": "code",
   "execution_count": null,
   "metadata": {
    "collapsed": false
   },
   "outputs": [],
   "source": [
    "agcensus.columns = [x.lower().replace('%', 'percentage') for x in agcensus.columns]\n",
    "# Verify that this had the expected results\n",
    "agcensus.dtypes"
   ]
  },
  {
   "cell_type": "markdown",
   "metadata": {},
   "source": [
    "## Type casting\n",
    "Note that most columns are of the 'object' type, even ones that we expect to be numbers. This will happen if there are mixed types or if the numbers are reported with commas. To cast a column to a numerical type, we first need to remove any non-numerical values, then apply a string to number casting function.\n",
    "\n",
    "For the first example, we will convert the value column to a integers. The documentation notes that values with less than half the unit of measure are reported as '(Z)'. Before we can cast the value into integers, we must remove these string values. Since they represent a number below one-half, let's round down to zero."
   ]
  },
  {
   "cell_type": "code",
   "execution_count": null,
   "metadata": {
    "collapsed": false
   },
   "outputs": [],
   "source": [
    "import locale\n",
    "# The 'inplace' argument makes the change in the agcensus dataframe, \n",
    "# rather than returning a copy with the replacement made.\n",
    "agcensus.value.replace('(Z)', 0, inplace=True)\n",
    "\n",
    "# Now we should be able to cast the column into a number type. To do this we need the locale module, and \n",
    "# before using it, the locale must be set so it knows what format the numbers will be in (commas representing \n",
    "# thousands separator).\n",
    "locale.setlocale(locale.LC_NUMERIC, '')\n",
    "# To convert a string to an integer, ues locale.atoi(), which converts from a string like \"1,234\" to an integer 1234.\n",
    "# Similarly, locale.atof() converts from string to float.\n",
    "# The apply function in pandas will apply a passed function to all values in the series. Note that it returns \n",
    "# a copy of the series, so we have to assign the original column name to refer to the new copy.\n",
    "# The lambda function is necessary because NaN values have type float, and locale.atof can only handle strings.\n",
    "agcensus.value = agcensus.value.apply(lambda v: locale.atof(v) if isinstance(v, str) else v)"
   ]
  },
  {
   "cell_type": "code",
   "execution_count": null,
   "metadata": {
    "collapsed": false
   },
   "outputs": [],
   "source": [
    "agcensus.dtypes"
   ]
  },
  {
   "cell_type": "markdown",
   "metadata": {},
   "source": [
    "## Check for duplicates"
   ]
  },
  {
   "cell_type": "code",
   "execution_count": null,
   "metadata": {
    "collapsed": false
   },
   "outputs": [],
   "source": [
    "sum(agcensus.duplicated())"
   ]
  },
  {
   "cell_type": "markdown",
   "metadata": {},
   "source": [
    "## Separate table by kind of variable\n",
    "This particular data set has a lot of different data tables merged together in a way that is difficult to work with. Here we will separate out just a table about farm sizes."
   ]
  },
  {
   "cell_type": "code",
   "execution_count": null,
   "metadata": {
    "collapsed": false
   },
   "outputs": [],
   "source": [
    "# first define some filters\n",
    "\n",
    "# the word \"FARMS\" should appear in the group description\n",
    "mask_farm = agcensus[\"group_desc\"].apply(lambda v: \"FARMS\" in v) \n",
    "\n",
    "# the statistical category description should be \"AREA\"\n",
    "mask_area = agcensus[\"statisticcat_desc\"] == \"AREA\"\n",
    "\n",
    "# the unit description should be \"ACRES\"\n",
    "mask_acres = agcensus[\"unit_desc\"] == \"ACRES\"\n",
    "\n",
    "# Now use the filters to mask the rows in agcensus dataframe, returning only those that \n",
    "# are \"True\" for the three filters above.\n",
    "farmsizes = agcensus[mask_farm & mask_area & mask_acres]\n",
    "\n",
    "# view the resulting dataframe\n",
    "farmsizes"
   ]
  },
  {
   "cell_type": "code",
   "execution_count": null,
   "metadata": {
    "collapsed": false
   },
   "outputs": [],
   "source": [
    "# view unique commodity descriptions\n",
    "set(farmsizes.commodity_desc)"
   ]
  }
 ],
 "metadata": {
  "kernelspec": {
   "display_name": "Python 3",
   "language": "python",
   "name": "python3"
  },
  "language_info": {
   "codemirror_mode": {
    "name": "ipython",
    "version": 3
   },
   "file_extension": ".py",
   "mimetype": "text/x-python",
   "name": "python",
   "nbconvert_exporter": "python",
   "pygments_lexer": "ipython3",
   "version": "3.5.1"
  }
 },
 "nbformat": 4,
 "nbformat_minor": 0
}
